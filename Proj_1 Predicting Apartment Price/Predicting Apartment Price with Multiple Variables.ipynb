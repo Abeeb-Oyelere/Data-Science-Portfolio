{
 "cells": [
  {
   "cell_type": "markdown",
   "id": "b2ebd9cf",
   "metadata": {},
   "source": [
    "<font size=\"+2\"><strong>Predicting Price with Size, Location, and Neighborhood</strong></font>"
   ]
  },
  {
   "cell_type": "markdown",
   "id": "ab402871",
   "metadata": {},
   "source": [
    "In this project I create a model that can predict the price of apartments in the city of Buenos Aires using the size, loaction (lat and lon) and neighbourhood data— with a focus on apartments that cost less than $500,000 USD."
   ]
  },
  {
   "cell_type": "code",
   "execution_count": 204,
   "id": "d0b92273",
   "metadata": {},
   "outputs": [],
   "source": [
    "import pandas as pd\n",
    "import numpy as np\n",
    "import matplotlib.pyplot as plt\n",
    "import seaborn as sns\n",
    "import plotly.express as px\n",
    "from sklearn.linear_model import Ridge\n",
    "from sklearn.pipeline import Pipeline, make_pipeline\n",
    "from sklearn.impute import SimpleImputer\n",
    "from sklearn.metrics import mean_absolute_error\n",
    "from category_encoders import OneHotEncoder\n",
    "from ipywidgets import Dropdown, FloatSlider, IntSlider, interact"
   ]
  },
  {
   "cell_type": "markdown",
   "id": "6ac719bd",
   "metadata": {},
   "source": [
    "# Prepare Data"
   ]
  },
  {
   "cell_type": "markdown",
   "id": "9b58acaf",
   "metadata": {},
   "source": [
    "## Import Data"
   ]
  },
  {
   "cell_type": "code",
   "execution_count": 205,
   "id": "ad77b46c",
   "metadata": {},
   "outputs": [],
   "source": [
    "df=pd.read_csv(\"housing_data.csv\")"
   ]
  },
  {
   "cell_type": "code",
   "execution_count": 206,
   "id": "b06730e6",
   "metadata": {},
   "outputs": [
    {
     "data": {
      "text/html": [
       "<div>\n",
       "<style scoped>\n",
       "    .dataframe tbody tr th:only-of-type {\n",
       "        vertical-align: middle;\n",
       "    }\n",
       "\n",
       "    .dataframe tbody tr th {\n",
       "        vertical-align: top;\n",
       "    }\n",
       "\n",
       "    .dataframe thead th {\n",
       "        text-align: right;\n",
       "    }\n",
       "</style>\n",
       "<table border=\"1\" class=\"dataframe\">\n",
       "  <thead>\n",
       "    <tr style=\"text-align: right;\">\n",
       "      <th></th>\n",
       "      <th>created_on</th>\n",
       "      <th>operation</th>\n",
       "      <th>property_type</th>\n",
       "      <th>place_with_parent_names</th>\n",
       "      <th>lat-lon</th>\n",
       "      <th>lat</th>\n",
       "      <th>lon</th>\n",
       "      <th>price_aprox_usd</th>\n",
       "      <th>surface_total_in_m2</th>\n",
       "      <th>surface_covered_in_m2</th>\n",
       "      <th>price_usd_per_m2</th>\n",
       "      <th>floor</th>\n",
       "      <th>rooms</th>\n",
       "      <th>expenses</th>\n",
       "      <th>properati_url</th>\n",
       "      <th>barrio</th>\n",
       "      <th>comuna</th>\n",
       "    </tr>\n",
       "  </thead>\n",
       "  <tbody>\n",
       "    <tr>\n",
       "      <th>0</th>\n",
       "      <td>2017-09-22</td>\n",
       "      <td>sell</td>\n",
       "      <td>house</td>\n",
       "      <td>|Argentina|Capital Federal|Palermo|Palermo Viejo|</td>\n",
       "      <td>-34.5889531469,-58.4298817776</td>\n",
       "      <td>-34.588953</td>\n",
       "      <td>-58.429882</td>\n",
       "      <td>2000000.0</td>\n",
       "      <td>312.0</td>\n",
       "      <td>NaN</td>\n",
       "      <td>6410.256410</td>\n",
       "      <td>NaN</td>\n",
       "      <td>NaN</td>\n",
       "      <td>NaN</td>\n",
       "      <td>https://www.properati.com.ar/2os_venta_casa_pa...</td>\n",
       "      <td>PALERMO</td>\n",
       "      <td>14.0</td>\n",
       "    </tr>\n",
       "    <tr>\n",
       "      <th>1</th>\n",
       "      <td>2017-08-01</td>\n",
       "      <td>sell</td>\n",
       "      <td>store</td>\n",
       "      <td>|Argentina|Capital Federal|Palermo|</td>\n",
       "      <td>-34.586069,-58.414431</td>\n",
       "      <td>-34.586069</td>\n",
       "      <td>-58.414431</td>\n",
       "      <td>790000.0</td>\n",
       "      <td>121.0</td>\n",
       "      <td>121.0</td>\n",
       "      <td>6528.925620</td>\n",
       "      <td>NaN</td>\n",
       "      <td>NaN</td>\n",
       "      <td>NaN</td>\n",
       "      <td>https://www.properati.com.ar/1cl7l_venta_local...</td>\n",
       "      <td>PALERMO</td>\n",
       "      <td>14.0</td>\n",
       "    </tr>\n",
       "    <tr>\n",
       "      <th>2</th>\n",
       "      <td>2017-08-02</td>\n",
       "      <td>sell</td>\n",
       "      <td>store</td>\n",
       "      <td>|Argentina|Capital Federal|Palermo|Palermo Soho|</td>\n",
       "      <td>-34.589723,-58.4325664</td>\n",
       "      <td>-34.589723</td>\n",
       "      <td>-58.432566</td>\n",
       "      <td>343000.0</td>\n",
       "      <td>122.0</td>\n",
       "      <td>108.0</td>\n",
       "      <td>2811.475410</td>\n",
       "      <td>NaN</td>\n",
       "      <td>2.0</td>\n",
       "      <td>NaN</td>\n",
       "      <td>https://www.properati.com.ar/1cm8w_venta_local...</td>\n",
       "      <td>PALERMO</td>\n",
       "      <td>14.0</td>\n",
       "    </tr>\n",
       "    <tr>\n",
       "      <th>3</th>\n",
       "      <td>2017-08-03</td>\n",
       "      <td>sell</td>\n",
       "      <td>store</td>\n",
       "      <td>|Argentina|Capital Federal|Palermo|</td>\n",
       "      <td>-34.5923646,-58.4144028</td>\n",
       "      <td>-34.592365</td>\n",
       "      <td>-58.414403</td>\n",
       "      <td>145000.0</td>\n",
       "      <td>24.0</td>\n",
       "      <td>24.0</td>\n",
       "      <td>6041.666667</td>\n",
       "      <td>NaN</td>\n",
       "      <td>NaN</td>\n",
       "      <td>NaN</td>\n",
       "      <td>https://www.properati.com.ar/1covk_venta_local...</td>\n",
       "      <td>PALERMO</td>\n",
       "      <td>14.0</td>\n",
       "    </tr>\n",
       "    <tr>\n",
       "      <th>4</th>\n",
       "      <td>2017-08-08</td>\n",
       "      <td>sell</td>\n",
       "      <td>store</td>\n",
       "      <td>|Argentina|Capital Federal|Barrio Norte|</td>\n",
       "      <td>-34.585652875,-58.4114933233</td>\n",
       "      <td>-34.585653</td>\n",
       "      <td>-58.411493</td>\n",
       "      <td>175000.0</td>\n",
       "      <td>24.0</td>\n",
       "      <td>24.0</td>\n",
       "      <td>7291.666667</td>\n",
       "      <td>NaN</td>\n",
       "      <td>NaN</td>\n",
       "      <td>NaN</td>\n",
       "      <td>https://www.properati.com.ar/1csk7_venta_local...</td>\n",
       "      <td>PALERMO</td>\n",
       "      <td>14.0</td>\n",
       "    </tr>\n",
       "  </tbody>\n",
       "</table>\n",
       "</div>"
      ],
      "text/plain": [
       "   created_on operation  ...   barrio comuna\n",
       "0  2017-09-22      sell  ...  PALERMO   14.0\n",
       "1  2017-08-01      sell  ...  PALERMO   14.0\n",
       "2  2017-08-02      sell  ...  PALERMO   14.0\n",
       "3  2017-08-03      sell  ...  PALERMO   14.0\n",
       "4  2017-08-08      sell  ...  PALERMO   14.0\n",
       "\n",
       "[5 rows x 17 columns]"
      ]
     },
     "execution_count": 206,
     "metadata": {},
     "output_type": "execute_result"
    }
   ],
   "source": [
    "df.head()"
   ]
  },
  {
   "cell_type": "markdown",
   "id": "ca07b896",
   "metadata": {},
   "source": [
    "## Explore"
   ]
  },
  {
   "cell_type": "code",
   "execution_count": 207,
   "id": "7fa556f3",
   "metadata": {},
   "outputs": [
    {
     "data": {
      "text/plain": [
       "(18979, 17)"
      ]
     },
     "execution_count": 207,
     "metadata": {},
     "output_type": "execute_result"
    }
   ],
   "source": [
    "df.shape"
   ]
  },
  {
   "cell_type": "code",
   "execution_count": 208,
   "id": "dd1beea7",
   "metadata": {},
   "outputs": [
    {
     "name": "stdout",
     "output_type": "stream",
     "text": [
      "<class 'pandas.core.frame.DataFrame'>\n",
      "RangeIndex: 18979 entries, 0 to 18978\n",
      "Data columns (total 17 columns):\n",
      " #   Column                   Non-Null Count  Dtype  \n",
      "---  ------                   --------------  -----  \n",
      " 0   created_on               18979 non-null  object \n",
      " 1   operation                18979 non-null  object \n",
      " 2   property_type            18979 non-null  object \n",
      " 3   place_with_parent_names  18979 non-null  object \n",
      " 4   lat-lon                  18979 non-null  object \n",
      " 5   lat                      18979 non-null  float64\n",
      " 6   lon                      18979 non-null  float64\n",
      " 7   price_aprox_usd          17445 non-null  float64\n",
      " 8   surface_total_in_m2      16586 non-null  float64\n",
      " 9   surface_covered_in_m2    16876 non-null  float64\n",
      " 10  price_usd_per_m2         16037 non-null  float64\n",
      " 11  floor                    2756 non-null   float64\n",
      " 12  rooms                    13517 non-null  float64\n",
      " 13  expenses                 3815 non-null   float64\n",
      " 14  properati_url            18979 non-null  object \n",
      " 15  barrio                   18979 non-null  object \n",
      " 16  comuna                   18979 non-null  float64\n",
      "dtypes: float64(10), object(7)\n",
      "memory usage: 2.5+ MB\n"
     ]
    }
   ],
   "source": [
    "df.info()"
   ]
  },
  {
   "cell_type": "code",
   "execution_count": 209,
   "id": "911e31a3",
   "metadata": {},
   "outputs": [
    {
     "data": {
      "text/html": [
       "<div>\n",
       "<style scoped>\n",
       "    .dataframe tbody tr th:only-of-type {\n",
       "        vertical-align: middle;\n",
       "    }\n",
       "\n",
       "    .dataframe tbody tr th {\n",
       "        vertical-align: top;\n",
       "    }\n",
       "\n",
       "    .dataframe thead th {\n",
       "        text-align: right;\n",
       "    }\n",
       "</style>\n",
       "<table border=\"1\" class=\"dataframe\">\n",
       "  <thead>\n",
       "    <tr style=\"text-align: right;\">\n",
       "      <th></th>\n",
       "      <th>lat</th>\n",
       "      <th>lon</th>\n",
       "      <th>price_aprox_usd</th>\n",
       "      <th>surface_total_in_m2</th>\n",
       "      <th>surface_covered_in_m2</th>\n",
       "      <th>price_usd_per_m2</th>\n",
       "      <th>floor</th>\n",
       "      <th>rooms</th>\n",
       "      <th>expenses</th>\n",
       "      <th>comuna</th>\n",
       "    </tr>\n",
       "  </thead>\n",
       "  <tbody>\n",
       "    <tr>\n",
       "      <th>count</th>\n",
       "      <td>18979.000000</td>\n",
       "      <td>18979.000000</td>\n",
       "      <td>1.744500e+04</td>\n",
       "      <td>16586.000000</td>\n",
       "      <td>16876.000000</td>\n",
       "      <td>16037.000000</td>\n",
       "      <td>2756.000000</td>\n",
       "      <td>13517.000000</td>\n",
       "      <td>3.815000e+03</td>\n",
       "      <td>18979.000000</td>\n",
       "    </tr>\n",
       "    <tr>\n",
       "      <th>mean</th>\n",
       "      <td>-34.600838</td>\n",
       "      <td>-58.435161</td>\n",
       "      <td>2.963559e+05</td>\n",
       "      <td>142.784758</td>\n",
       "      <td>127.491171</td>\n",
       "      <td>2760.408525</td>\n",
       "      <td>11.040639</td>\n",
       "      <td>3.033661</td>\n",
       "      <td>4.884536e+03</td>\n",
       "      <td>7.981137</td>\n",
       "    </tr>\n",
       "    <tr>\n",
       "      <th>std</th>\n",
       "      <td>0.026372</td>\n",
       "      <td>0.040787</td>\n",
       "      <td>4.108344e+05</td>\n",
       "      <td>1731.936727</td>\n",
       "      <td>1524.167396</td>\n",
       "      <td>1940.153216</td>\n",
       "      <td>53.448795</td>\n",
       "      <td>1.778162</td>\n",
       "      <td>3.024617e+04</td>\n",
       "      <td>5.007441</td>\n",
       "    </tr>\n",
       "    <tr>\n",
       "      <th>min</th>\n",
       "      <td>-34.695717</td>\n",
       "      <td>-58.530822</td>\n",
       "      <td>5.043300e+03</td>\n",
       "      <td>0.000000</td>\n",
       "      <td>1.000000</td>\n",
       "      <td>0.958333</td>\n",
       "      <td>1.000000</td>\n",
       "      <td>1.000000</td>\n",
       "      <td>1.000000e+00</td>\n",
       "      <td>1.000000</td>\n",
       "    </tr>\n",
       "    <tr>\n",
       "      <th>25%</th>\n",
       "      <td>-34.619827</td>\n",
       "      <td>-58.464637</td>\n",
       "      <td>1.200000e+05</td>\n",
       "      <td>48.000000</td>\n",
       "      <td>43.000000</td>\n",
       "      <td>1984.126984</td>\n",
       "      <td>2.000000</td>\n",
       "      <td>2.000000</td>\n",
       "      <td>1.600000e+03</td>\n",
       "      <td>3.000000</td>\n",
       "    </tr>\n",
       "    <tr>\n",
       "      <th>50%</th>\n",
       "      <td>-34.601014</td>\n",
       "      <td>-58.434293</td>\n",
       "      <td>1.800000e+05</td>\n",
       "      <td>75.000000</td>\n",
       "      <td>67.000000</td>\n",
       "      <td>2545.454545</td>\n",
       "      <td>4.000000</td>\n",
       "      <td>3.000000</td>\n",
       "      <td>2.800000e+03</td>\n",
       "      <td>7.000000</td>\n",
       "    </tr>\n",
       "    <tr>\n",
       "      <th>75%</th>\n",
       "      <td>-34.582748</td>\n",
       "      <td>-58.401513</td>\n",
       "      <td>3.200000e+05</td>\n",
       "      <td>134.000000</td>\n",
       "      <td>117.000000</td>\n",
       "      <td>3162.790698</td>\n",
       "      <td>8.000000</td>\n",
       "      <td>4.000000</td>\n",
       "      <td>5.000000e+03</td>\n",
       "      <td>13.000000</td>\n",
       "    </tr>\n",
       "    <tr>\n",
       "      <th>max</th>\n",
       "      <td>-34.534315</td>\n",
       "      <td>-58.353227</td>\n",
       "      <td>1.350000e+07</td>\n",
       "      <td>184000.000000</td>\n",
       "      <td>150000.000000</td>\n",
       "      <td>142450.141026</td>\n",
       "      <td>904.000000</td>\n",
       "      <td>38.000000</td>\n",
       "      <td>1.843611e+06</td>\n",
       "      <td>15.000000</td>\n",
       "    </tr>\n",
       "  </tbody>\n",
       "</table>\n",
       "</div>"
      ],
      "text/plain": [
       "                lat           lon  ...      expenses        comuna\n",
       "count  18979.000000  18979.000000  ...  3.815000e+03  18979.000000\n",
       "mean     -34.600838    -58.435161  ...  4.884536e+03      7.981137\n",
       "std        0.026372      0.040787  ...  3.024617e+04      5.007441\n",
       "min      -34.695717    -58.530822  ...  1.000000e+00      1.000000\n",
       "25%      -34.619827    -58.464637  ...  1.600000e+03      3.000000\n",
       "50%      -34.601014    -58.434293  ...  2.800000e+03      7.000000\n",
       "75%      -34.582748    -58.401513  ...  5.000000e+03     13.000000\n",
       "max      -34.534315    -58.353227  ...  1.843611e+06     15.000000\n",
       "\n",
       "[8 rows x 10 columns]"
      ]
     },
     "execution_count": 209,
     "metadata": {},
     "output_type": "execute_result"
    }
   ],
   "source": [
    "df.describe()"
   ]
  },
  {
   "cell_type": "code",
   "execution_count": 210,
   "id": "d8ab4fde",
   "metadata": {
    "scrolled": true
   },
   "outputs": [
    {
     "data": {
      "text/plain": [
       "created_on                     0\n",
       "operation                      0\n",
       "property_type                  0\n",
       "place_with_parent_names        0\n",
       "lat-lon                        0\n",
       "lat                            0\n",
       "lon                            0\n",
       "price_aprox_usd             1534\n",
       "surface_total_in_m2         2393\n",
       "surface_covered_in_m2       2103\n",
       "price_usd_per_m2            2942\n",
       "floor                      16223\n",
       "rooms                       5462\n",
       "expenses                   15164\n",
       "properati_url                  0\n",
       "barrio                         0\n",
       "comuna                         0\n",
       "dtype: int64"
      ]
     },
     "execution_count": 210,
     "metadata": {},
     "output_type": "execute_result"
    }
   ],
   "source": [
    "df.isna().sum()"
   ]
  },
  {
   "cell_type": "markdown",
   "id": "f37d3662",
   "metadata": {},
   "source": [
    "* Remove observations that are not in Capital Federal"
   ]
  },
  {
   "cell_type": "code",
   "execution_count": 211,
   "id": "16ecbd48",
   "metadata": {},
   "outputs": [],
   "source": [
    "df = df[df[\"place_with_parent_names\"].str.contains(\"Capital Federal\")]"
   ]
  },
  {
   "cell_type": "markdown",
   "id": "6d40ac69",
   "metadata": {},
   "source": [
    "* Extract Neighborhood from the place_with_parent_names column"
   ]
  },
  {
   "cell_type": "code",
   "execution_count": 212,
   "id": "a7e82263",
   "metadata": {},
   "outputs": [],
   "source": [
    "df[\"neighborhood\"] = df[\"place_with_parent_names\"].str.split(\"|\").str[-2]"
   ]
  },
  {
   "cell_type": "markdown",
   "id": "f60a6eb3",
   "metadata": {},
   "source": [
    "* drop the \"lat-lon\" column since it's a duplicate of the \"lat\" and \"lon\" columns and drop place_with_parent_names column"
   ]
  },
  {
   "cell_type": "code",
   "execution_count": 213,
   "id": "dd03f10f",
   "metadata": {
    "scrolled": true
   },
   "outputs": [],
   "source": [
    "df = df.drop(columns=[\"lat-lon\", \"place_with_parent_names\"])"
   ]
  },
  {
   "cell_type": "code",
   "execution_count": 214,
   "id": "c60ab495",
   "metadata": {
    "scrolled": true
   },
   "outputs": [
    {
     "data": {
      "text/plain": [
       "apartment    14792\n",
       "house         1598\n",
       "PH            1455\n",
       "store         1088\n",
       "Name: property_type, dtype: int64"
      ]
     },
     "execution_count": 214,
     "metadata": {},
     "output_type": "execute_result"
    }
   ],
   "source": [
    "df.property_type.value_counts()"
   ]
  },
  {
   "cell_type": "markdown",
   "id": "e53f081b",
   "metadata": {},
   "source": [
    "* Remove observation that are not \"apartment\" and the price is graeter that $500000"
   ]
  },
  {
   "cell_type": "code",
   "execution_count": 215,
   "id": "2fc59dc7",
   "metadata": {},
   "outputs": [],
   "source": [
    "mask_property = df[\"property_type\"]==\"apartment\"\n",
    "mask_price = df[\"price_aprox_usd\"]<=500000"
   ]
  },
  {
   "cell_type": "code",
   "execution_count": 216,
   "id": "5a13b112",
   "metadata": {},
   "outputs": [],
   "source": [
    "df=df[mask_price&mask_property]"
   ]
  },
  {
   "cell_type": "code",
   "execution_count": 217,
   "id": "78fe42b3",
   "metadata": {},
   "outputs": [
    {
     "data": {
      "text/plain": [
       "(12235, 16)"
      ]
     },
     "execution_count": 217,
     "metadata": {},
     "output_type": "execute_result"
    }
   ],
   "source": [
    "df.shape"
   ]
  },
  {
   "cell_type": "code",
   "execution_count": 218,
   "id": "4aad479d",
   "metadata": {
    "scrolled": true
   },
   "outputs": [
    {
     "name": "stdout",
     "output_type": "stream",
     "text": [
      "<class 'pandas.core.frame.DataFrame'>\n",
      "Int64Index: 12235 entries, 18 to 18978\n",
      "Data columns (total 16 columns):\n",
      " #   Column                 Non-Null Count  Dtype  \n",
      "---  ------                 --------------  -----  \n",
      " 0   created_on             12235 non-null  object \n",
      " 1   operation              12235 non-null  object \n",
      " 2   property_type          12235 non-null  object \n",
      " 3   lat                    12235 non-null  float64\n",
      " 4   lon                    12235 non-null  float64\n",
      " 5   price_aprox_usd        12235 non-null  float64\n",
      " 6   surface_total_in_m2    11452 non-null  float64\n",
      " 7   surface_covered_in_m2  11520 non-null  float64\n",
      " 8   price_usd_per_m2       11444 non-null  float64\n",
      " 9   floor                  2280 non-null   float64\n",
      " 10  rooms                  9745 non-null   float64\n",
      " 11  expenses               3120 non-null   float64\n",
      " 12  properati_url          12235 non-null  object \n",
      " 13  barrio                 12235 non-null  object \n",
      " 14  comuna                 12235 non-null  float64\n",
      " 15  neighborhood           12235 non-null  object \n",
      "dtypes: float64(10), object(6)\n",
      "memory usage: 1.6+ MB\n"
     ]
    }
   ],
   "source": [
    "df.info()"
   ]
  },
  {
   "cell_type": "code",
   "execution_count": 219,
   "id": "731011dc",
   "metadata": {},
   "outputs": [
    {
     "data": {
      "text/html": [
       "<div>\n",
       "<style scoped>\n",
       "    .dataframe tbody tr th:only-of-type {\n",
       "        vertical-align: middle;\n",
       "    }\n",
       "\n",
       "    .dataframe tbody tr th {\n",
       "        vertical-align: top;\n",
       "    }\n",
       "\n",
       "    .dataframe thead th {\n",
       "        text-align: right;\n",
       "    }\n",
       "</style>\n",
       "<table border=\"1\" class=\"dataframe\">\n",
       "  <thead>\n",
       "    <tr style=\"text-align: right;\">\n",
       "      <th></th>\n",
       "      <th>created_on</th>\n",
       "      <th>operation</th>\n",
       "      <th>property_type</th>\n",
       "      <th>lat</th>\n",
       "      <th>lon</th>\n",
       "      <th>price_aprox_usd</th>\n",
       "      <th>surface_total_in_m2</th>\n",
       "      <th>surface_covered_in_m2</th>\n",
       "      <th>price_usd_per_m2</th>\n",
       "      <th>floor</th>\n",
       "      <th>rooms</th>\n",
       "      <th>expenses</th>\n",
       "      <th>properati_url</th>\n",
       "      <th>barrio</th>\n",
       "      <th>comuna</th>\n",
       "      <th>neighborhood</th>\n",
       "    </tr>\n",
       "  </thead>\n",
       "  <tbody>\n",
       "    <tr>\n",
       "      <th>18</th>\n",
       "      <td>2017-08-29</td>\n",
       "      <td>sell</td>\n",
       "      <td>apartment</td>\n",
       "      <td>-34.588912</td>\n",
       "      <td>-58.413494</td>\n",
       "      <td>340000.0</td>\n",
       "      <td>130.0</td>\n",
       "      <td>120.0</td>\n",
       "      <td>2615.384615</td>\n",
       "      <td>NaN</td>\n",
       "      <td>4.0</td>\n",
       "      <td>8000.0</td>\n",
       "      <td>https://www.properati.com.ar/1dzv6_venta_depar...</td>\n",
       "      <td>PALERMO</td>\n",
       "      <td>14.0</td>\n",
       "      <td>Palermo</td>\n",
       "    </tr>\n",
       "    <tr>\n",
       "      <th>19</th>\n",
       "      <td>2017-08-29</td>\n",
       "      <td>sell</td>\n",
       "      <td>apartment</td>\n",
       "      <td>-34.577033</td>\n",
       "      <td>-58.423368</td>\n",
       "      <td>222000.0</td>\n",
       "      <td>52.0</td>\n",
       "      <td>48.0</td>\n",
       "      <td>4269.230769</td>\n",
       "      <td>NaN</td>\n",
       "      <td>1.0</td>\n",
       "      <td>NaN</td>\n",
       "      <td>https://www.properati.com.ar/1e05k_venta_depar...</td>\n",
       "      <td>PALERMO</td>\n",
       "      <td>14.0</td>\n",
       "      <td>Palermo</td>\n",
       "    </tr>\n",
       "    <tr>\n",
       "      <th>20</th>\n",
       "      <td>2017-08-29</td>\n",
       "      <td>sell</td>\n",
       "      <td>apartment</td>\n",
       "      <td>-34.595014</td>\n",
       "      <td>-58.427392</td>\n",
       "      <td>180000.0</td>\n",
       "      <td>70.0</td>\n",
       "      <td>70.0</td>\n",
       "      <td>2571.428571</td>\n",
       "      <td>NaN</td>\n",
       "      <td>NaN</td>\n",
       "      <td>3000.0</td>\n",
       "      <td>https://www.properati.com.ar/1e0mq_venta_depar...</td>\n",
       "      <td>PALERMO</td>\n",
       "      <td>14.0</td>\n",
       "      <td>Palermo</td>\n",
       "    </tr>\n",
       "    <tr>\n",
       "      <th>24</th>\n",
       "      <td>2017-08-30</td>\n",
       "      <td>sell</td>\n",
       "      <td>apartment</td>\n",
       "      <td>-34.580928</td>\n",
       "      <td>-58.440432</td>\n",
       "      <td>270000.0</td>\n",
       "      <td>67.0</td>\n",
       "      <td>64.0</td>\n",
       "      <td>4029.850746</td>\n",
       "      <td>NaN</td>\n",
       "      <td>3.0</td>\n",
       "      <td>3900.0</td>\n",
       "      <td>https://www.properati.com.ar/1e1x0_venta_depar...</td>\n",
       "      <td>PALERMO</td>\n",
       "      <td>14.0</td>\n",
       "      <td>Palermo Hollywood</td>\n",
       "    </tr>\n",
       "    <tr>\n",
       "      <th>29</th>\n",
       "      <td>2017-08-30</td>\n",
       "      <td>sell</td>\n",
       "      <td>apartment</td>\n",
       "      <td>-34.594251</td>\n",
       "      <td>-58.416645</td>\n",
       "      <td>250000.0</td>\n",
       "      <td>67.0</td>\n",
       "      <td>60.0</td>\n",
       "      <td>3731.343284</td>\n",
       "      <td>NaN</td>\n",
       "      <td>2.0</td>\n",
       "      <td>NaN</td>\n",
       "      <td>https://www.properati.com.ar/1e2mz_venta_depar...</td>\n",
       "      <td>PALERMO</td>\n",
       "      <td>14.0</td>\n",
       "      <td>Palermo</td>\n",
       "    </tr>\n",
       "  </tbody>\n",
       "</table>\n",
       "</div>"
      ],
      "text/plain": [
       "    created_on operation property_type  ...   barrio  comuna       neighborhood\n",
       "18  2017-08-29      sell     apartment  ...  PALERMO    14.0            Palermo\n",
       "19  2017-08-29      sell     apartment  ...  PALERMO    14.0            Palermo\n",
       "20  2017-08-29      sell     apartment  ...  PALERMO    14.0            Palermo\n",
       "24  2017-08-30      sell     apartment  ...  PALERMO    14.0  Palermo Hollywood\n",
       "29  2017-08-30      sell     apartment  ...  PALERMO    14.0            Palermo\n",
       "\n",
       "[5 rows x 16 columns]"
      ]
     },
     "execution_count": 219,
     "metadata": {},
     "output_type": "execute_result"
    }
   ],
   "source": [
    "df.head()"
   ]
  },
  {
   "cell_type": "markdown",
   "id": "3bb2309f",
   "metadata": {},
   "source": [
    "* Drop low and high cardilatity columns "
   ]
  },
  {
   "cell_type": "code",
   "execution_count": 220,
   "id": "fbe0a816",
   "metadata": {},
   "outputs": [],
   "source": [
    "df = df.drop(columns=[\"properati_url\", \"created_on\", \"operation\", \"property_type\"])"
   ]
  },
  {
   "cell_type": "markdown",
   "id": "bc09f9a5",
   "metadata": {},
   "source": [
    "* Drop Leakages"
   ]
  },
  {
   "cell_type": "code",
   "execution_count": 221,
   "id": "5fe9a783",
   "metadata": {},
   "outputs": [],
   "source": [
    "df = df.drop(columns=[\"price_usd_per_m2\"])"
   ]
  },
  {
   "cell_type": "markdown",
   "id": "4c890e25",
   "metadata": {},
   "source": [
    "* Drop multicolinear columns"
   ]
  },
  {
   "cell_type": "code",
   "execution_count": 222,
   "id": "b676e013",
   "metadata": {},
   "outputs": [],
   "source": [
    "df = df.drop(columns=[\"surface_total_in_m2\", \"floor\", \"rooms\", \"expenses\", \"barrio\",\"comuna\"])"
   ]
  },
  {
   "cell_type": "code",
   "execution_count": 223,
   "id": "4e60e686",
   "metadata": {},
   "outputs": [
    {
     "name": "stdout",
     "output_type": "stream",
     "text": [
      "<class 'pandas.core.frame.DataFrame'>\n",
      "Int64Index: 12235 entries, 18 to 18978\n",
      "Data columns (total 5 columns):\n",
      " #   Column                 Non-Null Count  Dtype  \n",
      "---  ------                 --------------  -----  \n",
      " 0   lat                    12235 non-null  float64\n",
      " 1   lon                    12235 non-null  float64\n",
      " 2   price_aprox_usd        12235 non-null  float64\n",
      " 3   surface_covered_in_m2  11520 non-null  float64\n",
      " 4   neighborhood           12235 non-null  object \n",
      "dtypes: float64(4), object(1)\n",
      "memory usage: 573.5+ KB\n"
     ]
    }
   ],
   "source": [
    "df.info()"
   ]
  },
  {
   "cell_type": "code",
   "execution_count": 224,
   "id": "657f6e6a",
   "metadata": {},
   "outputs": [
    {
     "data": {
      "text/html": [
       "<div>\n",
       "<style scoped>\n",
       "    .dataframe tbody tr th:only-of-type {\n",
       "        vertical-align: middle;\n",
       "    }\n",
       "\n",
       "    .dataframe tbody tr th {\n",
       "        vertical-align: top;\n",
       "    }\n",
       "\n",
       "    .dataframe thead th {\n",
       "        text-align: right;\n",
       "    }\n",
       "</style>\n",
       "<table border=\"1\" class=\"dataframe\">\n",
       "  <thead>\n",
       "    <tr style=\"text-align: right;\">\n",
       "      <th></th>\n",
       "      <th>lat</th>\n",
       "      <th>lon</th>\n",
       "      <th>price_aprox_usd</th>\n",
       "      <th>surface_covered_in_m2</th>\n",
       "      <th>neighborhood</th>\n",
       "    </tr>\n",
       "  </thead>\n",
       "  <tbody>\n",
       "    <tr>\n",
       "      <th>18</th>\n",
       "      <td>-34.588912</td>\n",
       "      <td>-58.413494</td>\n",
       "      <td>340000.0</td>\n",
       "      <td>120.0</td>\n",
       "      <td>Palermo</td>\n",
       "    </tr>\n",
       "    <tr>\n",
       "      <th>19</th>\n",
       "      <td>-34.577033</td>\n",
       "      <td>-58.423368</td>\n",
       "      <td>222000.0</td>\n",
       "      <td>48.0</td>\n",
       "      <td>Palermo</td>\n",
       "    </tr>\n",
       "    <tr>\n",
       "      <th>20</th>\n",
       "      <td>-34.595014</td>\n",
       "      <td>-58.427392</td>\n",
       "      <td>180000.0</td>\n",
       "      <td>70.0</td>\n",
       "      <td>Palermo</td>\n",
       "    </tr>\n",
       "    <tr>\n",
       "      <th>24</th>\n",
       "      <td>-34.580928</td>\n",
       "      <td>-58.440432</td>\n",
       "      <td>270000.0</td>\n",
       "      <td>64.0</td>\n",
       "      <td>Palermo Hollywood</td>\n",
       "    </tr>\n",
       "    <tr>\n",
       "      <th>29</th>\n",
       "      <td>-34.594251</td>\n",
       "      <td>-58.416645</td>\n",
       "      <td>250000.0</td>\n",
       "      <td>60.0</td>\n",
       "      <td>Palermo</td>\n",
       "    </tr>\n",
       "  </tbody>\n",
       "</table>\n",
       "</div>"
      ],
      "text/plain": [
       "          lat        lon  ...  surface_covered_in_m2       neighborhood\n",
       "18 -34.588912 -58.413494  ...                  120.0            Palermo\n",
       "19 -34.577033 -58.423368  ...                   48.0            Palermo\n",
       "20 -34.595014 -58.427392  ...                   70.0            Palermo\n",
       "24 -34.580928 -58.440432  ...                   64.0  Palermo Hollywood\n",
       "29 -34.594251 -58.416645  ...                   60.0            Palermo\n",
       "\n",
       "[5 rows x 5 columns]"
      ]
     },
     "execution_count": 224,
     "metadata": {},
     "output_type": "execute_result"
    }
   ],
   "source": [
    "df.head()"
   ]
  },
  {
   "cell_type": "markdown",
   "id": "72c3b455",
   "metadata": {},
   "source": [
    "* Remove observations that are outliers in the \"surface_covered_in_m2\" column. Specifically, all observations should fall between the 0.1 and 0.9 quantiles for \"surface_covered_in_m2\""
   ]
  },
  {
   "cell_type": "code",
   "execution_count": 225,
   "id": "4079d5f3",
   "metadata": {},
   "outputs": [],
   "source": [
    "# Remove outliers to avoid overfitting\n",
    "low_s, high_s = df[\"surface_covered_in_m2\"].quantile([0.08, 0.92])\n",
    "low_p, high_p = df[\"price_aprox_usd\"].quantile([0.1, 0.9])"
   ]
  },
  {
   "cell_type": "code",
   "execution_count": 226,
   "id": "539c18a4",
   "metadata": {},
   "outputs": [],
   "source": [
    "df = df[df[\"surface_covered_in_m2\"].between(low_s,high_s)]\n",
    "df = df[df[\"price_aprox_usd\"].between(low_p,high_p)]"
   ]
  },
  {
   "cell_type": "code",
   "execution_count": 227,
   "id": "6b77d2fb",
   "metadata": {},
   "outputs": [
    {
     "data": {
      "text/plain": [
       "(8640, 5)"
      ]
     },
     "execution_count": 227,
     "metadata": {},
     "output_type": "execute_result"
    }
   ],
   "source": [
    "df.shape"
   ]
  },
  {
   "cell_type": "markdown",
   "id": "8a17f3f7",
   "metadata": {},
   "source": [
    "* Check the correlation between the numerical features in df"
   ]
  },
  {
   "cell_type": "code",
   "execution_count": 228,
   "id": "3ca71c0d",
   "metadata": {},
   "outputs": [
    {
     "data": {
      "image/png": "[encoded data removed]",
      "text/plain": [
       "<Figure size 432x288 with 2 Axes>"
      ]
     },
     "metadata": {
      "needs_background": "light"
     },
     "output_type": "display_data"
    }
   ],
   "source": [
    "sns.heatmap(df.corr());"
   ]
  },
  {
   "cell_type": "markdown",
   "id": "06c9196b",
   "metadata": {},
   "source": [
    "## Split"
   ]
  },
  {
   "cell_type": "markdown",
   "id": "df36a253",
   "metadata": {},
   "source": [
    "* Create the feature matrix named X_train that contain the features: [\"lon\", \"lat\", \"surface_covered_in_m2\", \n",
    "\"neighborhood\"]"
   ]
  },
  {
   "cell_type": "markdown",
   "id": "95db82b3",
   "metadata": {},
   "source": [
    "Lets split the Surface area covered and the Price "
   ]
  },
  {
   "cell_type": "code",
   "execution_count": 229,
   "id": "3b64fa72",
   "metadata": {},
   "outputs": [
    {
     "name": "stdout",
     "output_type": "stream",
     "text": [
      "(8640, 4)\n"
     ]
    }
   ],
   "source": [
    "feature_metrix = [\"lon\", \"lat\", \"surface_covered_in_m2\", \"neighborhood\"]\n",
    "X = df[feature_metrix]\n",
    "print (X.shape)"
   ]
  },
  {
   "cell_type": "code",
   "execution_count": 230,
   "id": "1ce6b9b1",
   "metadata": {},
   "outputs": [
    {
     "name": "stdout",
     "output_type": "stream",
     "text": [
      "(8640,)\n"
     ]
    }
   ],
   "source": [
    "target_vector = \"price_aprox_usd\"\n",
    "y = df[target_vector]\n",
    "print(y.shape)"
   ]
  },
  {
   "cell_type": "markdown",
   "id": "1bef468d",
   "metadata": {},
   "source": [
    "* Split the whole data into two, the first set containing 70% of the whole data will be use to train the model while the other set will be used to test it"
   ]
  },
  {
   "cell_type": "code",
   "execution_count": 231,
   "id": "fdf4dfc2",
   "metadata": {},
   "outputs": [],
   "source": [
    "split = int(len(X)*0.7)"
   ]
  },
  {
   "cell_type": "code",
   "execution_count": 232,
   "id": "f5aec13d",
   "metadata": {},
   "outputs": [
    {
     "name": "stdout",
     "output_type": "stream",
     "text": [
      "Length of X_train= 6048\n",
      "Length of X_test= 2592\n"
     ]
    }
   ],
   "source": [
    "X_train  = pd.DataFrame(X.iloc[:split])\n",
    "X_test = pd.DataFrame(X.iloc[split:])\n",
    "print(\"Length of X_train=\",X_train.shape[0])\n",
    "print(\"Length of X_test=\",X_test.shape[0])"
   ]
  },
  {
   "cell_type": "code",
   "execution_count": 233,
   "id": "6ebfcb49",
   "metadata": {},
   "outputs": [
    {
     "name": "stdout",
     "output_type": "stream",
     "text": [
      "Length of y_train= 6048\n",
      "Length of y_test= 2592\n"
     ]
    }
   ],
   "source": [
    "y_train  = pd.DataFrame(y.iloc[:split])\n",
    "y_test = pd.DataFrame(y.iloc[split:])\n",
    "print(\"Length of y_train=\",y_train.shape[0])\n",
    "print(\"Length of y_test=\",y_test.shape[0])"
   ]
  },
  {
   "cell_type": "markdown",
   "id": "e489183c",
   "metadata": {},
   "source": [
    "# Build Model"
   ]
  },
  {
   "cell_type": "markdown",
   "id": "f9d1fdd0",
   "metadata": {},
   "source": [
    "## Baseline Model"
   ]
  },
  {
   "cell_type": "code",
   "execution_count": 234,
   "id": "5ee43c31",
   "metadata": {},
   "outputs": [],
   "source": [
    "mean_train = y_train.mean()"
   ]
  },
  {
   "cell_type": "code",
   "execution_count": 235,
   "id": "8fe02118",
   "metadata": {},
   "outputs": [],
   "source": [
    "# Create a list named y_pred_baseline that contains the value of y_mean repeated so that it's the same length at y_train\n",
    "y_pred_baseline = [mean_train]*len(y_train)"
   ]
  },
  {
   "cell_type": "markdown",
   "id": "3091321b",
   "metadata": {},
   "source": [
    "* Calculate the baseline mean absolute error for your predictions in y_pred_baseline as compared to the true targets in y_train"
   ]
  },
  {
   "cell_type": "code",
   "execution_count": 236,
   "id": "6c02221e",
   "metadata": {},
   "outputs": [
    {
     "name": "stdout",
     "output_type": "stream",
     "text": [
      "mean absolute error = 55660.32186945356\n"
     ]
    }
   ],
   "source": [
    "print(f\"mean absolute error = {mean_absolute_error(y_train, y_pred_baseline)}\")"
   ]
  },
  {
   "cell_type": "markdown",
   "id": "315d8a70",
   "metadata": {},
   "source": [
    "As expected, the baseline model doesn't really follow the trend in the data"
   ]
  },
  {
   "cell_type": "markdown",
   "id": "8e1b6dff",
   "metadata": {},
   "source": [
    "## Iterate"
   ]
  },
  {
   "cell_type": "markdown",
   "id": "88ae58c7",
   "metadata": {},
   "source": [
    "* Create a pipeline named model that contains a OneHotEncoder and Ridge predictor"
   ]
  },
  {
   "cell_type": "code",
   "execution_count": 237,
   "id": "7bc4134d",
   "metadata": {},
   "outputs": [],
   "source": [
    "# Create a model\n",
    "model = make_pipeline(OneHotEncoder(use_cat_names=True), Ridge())"
   ]
  },
  {
   "cell_type": "code",
   "execution_count": 238,
   "id": "f466ef63",
   "metadata": {},
   "outputs": [
    {
     "data": {
      "text/html": [
       "<style>#sk-container-id-3 {color: black;background-color: white;}#sk-container-id-3 pre{padding: 0;}#sk-container-id-3 div.sk-toggleable {background-color: white;}#sk-container-id-3 label.sk-toggleable__label {cursor: pointer;display: block;width: 100%;margin-bottom: 0;padding: 0.3em;box-sizing: border-box;text-align: center;}#sk-container-id-3 label.sk-toggleable__label-arrow:before {content: \"▸\";float: left;margin-right: 0.25em;color: #696969;}#sk-container-id-3 label.sk-toggleable__label-arrow:hover:before {color: black;}#sk-container-id-3 div.sk-estimator:hover label.sk-toggleable__label-arrow:before {color: black;}#sk-container-id-3 div.sk-toggleable__content {max-height: 0;max-width: 0;overflow: hidden;text-align: left;background-color: #f0f8ff;}#sk-container-id-3 div.sk-toggleable__content pre {margin: 0.2em;color: black;border-radius: 0.25em;background-color: #f0f8ff;}#sk-container-id-3 input.sk-toggleable__control:checked~div.sk-toggleable__content {max-height: 200px;max-width: 100%;overflow: auto;}#sk-container-id-3 input.sk-toggleable__control:checked~label.sk-toggleable__label-arrow:before {content: \"▾\";}#sk-container-id-3 div.sk-estimator input.sk-toggleable__control:checked~label.sk-toggleable__label {background-color: #d4ebff;}#sk-container-id-3 div.sk-label input.sk-toggleable__control:checked~label.sk-toggleable__label {background-color: #d4ebff;}#sk-container-id-3 input.sk-hidden--visually {border: 0;clip: rect(1px 1px 1px 1px);clip: rect(1px, 1px, 1px, 1px);height: 1px;margin: -1px;overflow: hidden;padding: 0;position: absolute;width: 1px;}#sk-container-id-3 div.sk-estimator {font-family: monospace;background-color: #f0f8ff;border: 1px dotted black;border-radius: 0.25em;box-sizing: border-box;margin-bottom: 0.5em;}#sk-container-id-3 div.sk-estimator:hover {background-color: #d4ebff;}#sk-container-id-3 div.sk-parallel-item::after {content: \"\";width: 100%;border-bottom: 1px solid gray;flex-grow: 1;}#sk-container-id-3 div.sk-label:hover label.sk-toggleable__label {background-color: #d4ebff;}#sk-container-id-3 div.sk-serial::before {content: \"\";position: absolute;border-left: 1px solid gray;box-sizing: border-box;top: 0;bottom: 0;left: 50%;z-index: 0;}#sk-container-id-3 div.sk-serial {display: flex;flex-direction: column;align-items: center;background-color: white;padding-right: 0.2em;padding-left: 0.2em;position: relative;}#sk-container-id-3 div.sk-item {position: relative;z-index: 1;}#sk-container-id-3 div.sk-parallel {display: flex;align-items: stretch;justify-content: center;background-color: white;position: relative;}#sk-container-id-3 div.sk-item::before, #sk-container-id-3 div.sk-parallel-item::before {content: \"\";position: absolute;border-left: 1px solid gray;box-sizing: border-box;top: 0;bottom: 0;left: 50%;z-index: -1;}#sk-container-id-3 div.sk-parallel-item {display: flex;flex-direction: column;z-index: 1;position: relative;background-color: white;}#sk-container-id-3 div.sk-parallel-item:first-child::after {align-self: flex-end;width: 50%;}#sk-container-id-3 div.sk-parallel-item:last-child::after {align-self: flex-start;width: 50%;}#sk-container-id-3 div.sk-parallel-item:only-child::after {width: 0;}#sk-container-id-3 div.sk-dashed-wrapped {border: 1px dashed gray;margin: 0 0.4em 0.5em 0.4em;box-sizing: border-box;padding-bottom: 0.4em;background-color: white;}#sk-container-id-3 div.sk-label label {font-family: monospace;font-weight: bold;display: inline-block;line-height: 1.2em;}#sk-container-id-3 div.sk-label-container {text-align: center;}#sk-container-id-3 div.sk-container {/* jupyter's `normalize.less` sets `[hidden] { display: none; }` but bootstrap.min.css set `[hidden] { display: none !important; }` so we also need the `!important` here to be able to override the default hidden behavior on the sphinx rendered scikit-learn.org. See: https://github.com/scikit-learn/scikit-learn/issues/21755 */display: inline-block !important;position: relative;}#sk-container-id-3 div.sk-text-repr-fallback {display: none;}</style><div id=\"sk-container-id-3\" class=\"sk-top-container\"><div class=\"sk-text-repr-fallback\"><pre>Pipeline(steps=[(&#x27;onehotencoder&#x27;,\n",
       "                 OneHotEncoder(cols=[&#x27;neighborhood&#x27;], use_cat_names=True)),\n",
       "                (&#x27;ridge&#x27;, Ridge())])</pre><b>In a Jupyter environment, please rerun this cell to show the HTML representation or trust the notebook. <br />On GitHub, the HTML representation is unable to render, please try loading this page with nbviewer.org.</b></div><div class=\"sk-container\" hidden><div class=\"sk-item sk-dashed-wrapped\"><div class=\"sk-label-container\"><div class=\"sk-label sk-toggleable\"><input class=\"sk-toggleable__control sk-hidden--visually\" id=\"sk-estimator-id-7\" type=\"checkbox\" ><label for=\"sk-estimator-id-7\" class=\"sk-toggleable__label sk-toggleable__label-arrow\">Pipeline</label><div class=\"sk-toggleable__content\"><pre>Pipeline(steps=[(&#x27;onehotencoder&#x27;,\n",
       "                 OneHotEncoder(cols=[&#x27;neighborhood&#x27;], use_cat_names=True)),\n",
       "                (&#x27;ridge&#x27;, Ridge())])</pre></div></div></div><div class=\"sk-serial\"><div class=\"sk-item\"><div class=\"sk-estimator sk-toggleable\"><input class=\"sk-toggleable__control sk-hidden--visually\" id=\"sk-estimator-id-8\" type=\"checkbox\" ><label for=\"sk-estimator-id-8\" class=\"sk-toggleable__label sk-toggleable__label-arrow\">OneHotEncoder</label><div class=\"sk-toggleable__content\"><pre>OneHotEncoder(cols=[&#x27;neighborhood&#x27;], use_cat_names=True)</pre></div></div></div><div class=\"sk-item\"><div class=\"sk-estimator sk-toggleable\"><input class=\"sk-toggleable__control sk-hidden--visually\" id=\"sk-estimator-id-9\" type=\"checkbox\" ><label for=\"sk-estimator-id-9\" class=\"sk-toggleable__label sk-toggleable__label-arrow\">Ridge</label><div class=\"sk-toggleable__content\"><pre>Ridge()</pre></div></div></div></div></div></div></div>"
      ],
      "text/plain": [
       "Pipeline(steps=[('onehotencoder',\n",
       "                 OneHotEncoder(cols=['neighborhood'], use_cat_names=True)),\n",
       "                ('ridge', Ridge())])"
      ]
     },
     "execution_count": 238,
     "metadata": {},
     "output_type": "execute_result"
    }
   ],
   "source": [
    "model.fit(X_train, y_train)"
   ]
  },
  {
   "cell_type": "markdown",
   "id": "94828115",
   "metadata": {},
   "source": [
    "## Evaluate"
   ]
  },
  {
   "cell_type": "markdown",
   "id": "3e656c9c",
   "metadata": {},
   "source": [
    "* Using the model's predict method, create a list of predictions for the observations in the feature matrix X_train named y_pred_training"
   ]
  },
  {
   "cell_type": "code",
   "execution_count": 239,
   "id": "f8c925b4",
   "metadata": {},
   "outputs": [],
   "source": [
    "# Generate predictions using a trained model in scikit-learn\n",
    "y_pred_training = model.predict(X_train)"
   ]
  },
  {
   "cell_type": "code",
   "execution_count": 240,
   "id": "c56d4873",
   "metadata": {},
   "outputs": [
    {
     "name": "stdout",
     "output_type": "stream",
     "text": [
      "Training MAE: 29604.74\n"
     ]
    }
   ],
   "source": [
    "# Calculate the mean absolute error for a list of predictions in scikit-learn.\n",
    "mae_training = mean_absolute_error(y_train, y_pred_training)\n",
    "print(\"Training MAE:\", round(mae_training, 2))"
   ]
  },
  {
   "cell_type": "markdown",
   "id": "96978bdb",
   "metadata": {},
   "source": [
    "* The model performs far better than the baseline. This suggests that the variables are strong predictors of price. \n",
    "\n",
    "* Now let's check our test performance. Remember, once we test our model, there's no more iteration allowed"
   ]
  },
  {
   "cell_type": "code",
   "execution_count": 241,
   "id": "fcdbecba",
   "metadata": {},
   "outputs": [],
   "source": [
    "# Generate predictions using a trained model in scikit-learn\n",
    "y_pred_test = model.predict(X_test)"
   ]
  },
  {
   "cell_type": "code",
   "execution_count": 242,
   "id": "81373991",
   "metadata": {},
   "outputs": [
    {
     "name": "stdout",
     "output_type": "stream",
     "text": [
      "Training MAE: 28057.38\n"
     ]
    }
   ],
   "source": [
    "# Calculate the mean absolute error for a list of predictions in scikit-learn.\n",
    "mae_test = mean_absolute_error(y_test, y_pred_test)\n",
    "print(\"Training MAE:\", round(mae_test, 2))"
   ]
  },
  {
   "cell_type": "markdown",
   "id": "c9d26f38",
   "metadata": {},
   "source": [
    "* the mean absolute error for the test data is a less than that of the train data this indicate that the model will generalize well"
   ]
  },
  {
   "cell_type": "markdown",
   "id": "e6668f9b",
   "metadata": {},
   "source": [
    "# Communicate Result\n",
    "In this section, I will craeate a tool for my stakeholders that can be used to deploy the model "
   ]
  },
  {
   "cell_type": "markdown",
   "id": "2c55c976",
   "metadata": {},
   "source": [
    "* Let's start with the intercept."
   ]
  },
  {
   "cell_type": "code",
   "execution_count": 243,
   "id": "1b80ddd7",
   "metadata": {},
   "outputs": [
    {
     "name": "stdout",
     "output_type": "stream",
     "text": [
      "Model Intercept: [10931681.84]\n"
     ]
    }
   ],
   "source": [
    "intercept = model.named_steps[\"ridge\"].intercept_\n",
    "print(\"Model Intercept:\", np.round(intercept, 2))"
   ]
  },
  {
   "cell_type": "markdown",
   "id": "4ed492c5",
   "metadata": {},
   "source": [
    "* Extract the coefficient associated \"surface_covered_in_m2\" in your model, and assign it to the variable coefficientdel"
   ]
  },
  {
   "cell_type": "code",
   "execution_count": 244,
   "id": "4b982dda",
   "metadata": {},
   "outputs": [],
   "source": [
    "coefficients = np.round(model.named_steps[\"ridge\"].coef_[0], 2)"
   ]
  },
  {
   "cell_type": "code",
   "execution_count": 245,
   "id": "05810753",
   "metadata": {
    "scrolled": false
   },
   "outputs": [
    {
     "data": {
      "text/plain": [
       "array([101326.44, 143951.23,   2223.67,  36650.22,  48629.98,  53380.72,\n",
       "        37746.09,  11632.26,  39134.03,  25255.59,  28063.15,   3417.77,\n",
       "         7910.16,  39591.33,  31669.09, -39629.35,  -8762.34,  -7518.68,\n",
       "       -23911.72,  -9076.5 , -12259.24,  13815.45,  -9500.92, -17817.36,\n",
       "         2905.49,   1188.06, -26436.05, 127944.4 , -29917.45, -45778.03,\n",
       "       -21067.56, -14002.73, -22851.29, -36482.47, -25697.9 , -19869.34,\n",
       "         7901.56,  -2552.38, -37630.29,  -5297.06,  -6434.86, -18491.69,\n",
       "        10890.33, -29520.63,  -9853.99,  -4914.45, -21737.51, -36195.64,\n",
       "       -16341.  ,  37157.41,  -5385.38, -13264.42,   7504.82,   -774.44,\n",
       "        11766.67,  -5181.92])"
      ]
     },
     "execution_count": 245,
     "metadata": {},
     "output_type": "execute_result"
    }
   ],
   "source": [
    "coefficients"
   ]
  },
  {
   "cell_type": "markdown",
   "id": "06a3b620",
   "metadata": {},
   "source": [
    "We have the values of our coefficients, but how do we know which features they belong to? We'll need to get that information by going into the part of our pipeline that did the encoding"
   ]
  },
  {
   "cell_type": "code",
   "execution_count": 246,
   "id": "0e8e77d9",
   "metadata": {},
   "outputs": [],
   "source": [
    "# Extract the feature names of your encoded data from the OneHotEncoder in your model\n",
    "features_name = model.named_steps[\"onehotencoder\"].get_feature_names()"
   ]
  },
  {
   "cell_type": "markdown",
   "id": "1893e40a",
   "metadata": {},
   "source": [
    "* Create a pandas Series named feat_imp where the index is your features and the values are your coefficients"
   ]
  },
  {
   "cell_type": "code",
   "execution_count": 247,
   "id": "8884ef2e",
   "metadata": {
    "scrolled": true
   },
   "outputs": [
    {
     "data": {
      "text/plain": [
       "lon                               101326.44\n",
       "lat                               143951.23\n",
       "surface_covered_in_m2               2223.67\n",
       "neighborhood_Palermo               36650.22\n",
       "neighborhood_Palermo Hollywood     48629.98\n",
       "dtype: float64"
      ]
     },
     "execution_count": 247,
     "metadata": {},
     "output_type": "execute_result"
    }
   ],
   "source": [
    "feat_coef = pd.Series(coefficients, index=features_name)\n",
    "feat_coef.head()"
   ]
  },
  {
   "cell_type": "markdown",
   "id": "d22a3b1b",
   "metadata": {},
   "source": [
    "* print the equation the model has determined for predicting apartment price based on neighborhood"
   ]
  },
  {
   "cell_type": "code",
   "execution_count": 248,
   "id": "b3a68ae8",
   "metadata": {},
   "outputs": [
    {
     "name": "stdout",
     "output_type": "stream",
     "text": [
      "price = [10931681.84]\n",
      "+ (101326.44 * lon)\n",
      "+ (143951.23 * lat)\n",
      "+ (2223.67 * surface_covered_in_m2)\n",
      "+ (36650.22 * neighborhood_Palermo)\n",
      "+ (48629.98 * neighborhood_Palermo Hollywood)\n",
      "+ (53380.72 * neighborhood_Palermo Chico)\n",
      "+ (37746.09 * neighborhood_Belgrano)\n",
      "+ (11632.26 * neighborhood_Palermo Viejo)\n",
      "+ (39134.03 * neighborhood_Las Cañitas)\n",
      "+ (25255.59 * neighborhood_Barrio Norte)\n",
      "+ (28063.15 * neighborhood_Palermo Soho)\n",
      "+ (3417.77 * neighborhood_Capital Federal)\n",
      "+ (7910.16 * neighborhood_Villa Crespo)\n",
      "+ (39591.33 * neighborhood_Recoleta)\n",
      "+ (31669.09 * neighborhood_Colegiales)\n",
      "+ (-39629.35 * neighborhood_Balvanera)\n",
      "+ (-8762.34 * neighborhood_Almagro)\n",
      "+ (-7518.68 * neighborhood_Barracas)\n",
      "+ (-23911.72 * neighborhood_Boca)\n",
      "+ (-9076.5 * neighborhood_San Telmo)\n",
      "+ (-12259.24 * neighborhood_Paternal)\n",
      "+ (13815.45 * neighborhood_Caballito)\n",
      "+ (-9500.92 * neighborhood_Villa General Mitre)\n",
      "+ (-17817.36 * neighborhood_Flores)\n",
      "+ (2905.49 * neighborhood_Villa del Parque)\n",
      "+ (1188.06 * neighborhood_Villa Santa Rita)\n",
      "+ (-26436.05 * neighborhood_San Nicolás)\n",
      "+ (127944.4 * neighborhood_Puerto Madero)\n",
      "+ (-29917.45 * neighborhood_Congreso)\n",
      "+ (-45778.03 * neighborhood_Once)\n",
      "+ (-21067.56 * neighborhood_Abasto)\n",
      "+ (-14002.73 * neighborhood_Boedo)\n",
      "+ (-22851.29 * neighborhood_San Cristobal)\n",
      "+ (-36482.47 * neighborhood_Tribunales)\n",
      "+ (-25697.9 * neighborhood_Monserrat)\n",
      "+ (-19869.34 * neighborhood_Centro / Microcentro)\n",
      "+ (7901.56 * neighborhood_Villa Urquiza)\n",
      "+ (-2552.38 * neighborhood_Parque Centenario)\n",
      "+ (-37630.29 * neighborhood_Chacarita)\n",
      "+ (-5297.06 * neighborhood_Liniers)\n",
      "+ (-6434.86 * neighborhood_Villa Luro)\n",
      "+ (-18491.69 * neighborhood_Versalles)\n",
      "+ (10890.33 * neighborhood_Retiro)\n",
      "+ (-29520.63 * neighborhood_Catalinas)\n",
      "+ (-9853.99 * neighborhood_Agronomía)\n",
      "+ (-4914.45 * neighborhood_Villa Pueyrredón)\n",
      "+ (-21737.51 * neighborhood_Velez Sarsfield)\n",
      "+ (-36195.64 * neighborhood_Floresta)\n",
      "+ (-16341.0 * neighborhood_Monte Castro)\n",
      "+ (37157.41 * neighborhood_Nuñez)\n",
      "+ (-5385.38 * neighborhood_Saavedra)\n",
      "+ (-13264.42 * neighborhood_Mataderos)\n",
      "+ (7504.82 * neighborhood_Parque Patricios)\n",
      "+ (-774.44 * neighborhood_Constitución)\n",
      "+ (11766.67 * neighborhood_Coghlan)\n",
      "+ (-5181.92 * neighborhood_Parque Chacabuco)\n"
     ]
    }
   ],
   "source": [
    "print(f\"price = {intercept.round(2)}\")\n",
    "for f, c in feat_coef.items():\n",
    "    print(f\"+ ({round(c, 2)} * {f})\")"
   ]
  },
  {
   "cell_type": "markdown",
   "id": "6e091472",
   "metadata": {},
   "source": [
    "### Communicate Result Using Function and Widget"
   ]
  },
  {
   "cell_type": "markdown",
   "id": "5a6b430b",
   "metadata": {},
   "source": [
    "* Create a function that takes four arguments (area, lat, lon, and neighborhood) and returns your model's prediction for an apartment price."
   ]
  },
  {
   "cell_type": "code",
   "execution_count": 249,
   "id": "c11262b2",
   "metadata": {},
   "outputs": [],
   "source": [
    "def make_prediction(lon, lat, surface_covered_in_m2, neighborhood):\n",
    "    df = {'lon':lon,\n",
    "          'lat':lat,\n",
    "          'surface_covered_in_m2':surface_covered_in_m2,\n",
    "          'neighborhood':neighborhood\n",
    "    }\n",
    "    prediction = model.predict(pd.DataFrame(df, index=[0])).round(2)[0]\n",
    "    return f\"Predicted apartment price: ${prediction}\""
   ]
  },
  {
   "cell_type": "code",
   "execution_count": 250,
   "id": "0ff2e939",
   "metadata": {},
   "outputs": [
    {
     "data": {
      "text/plain": [
       "'Predicted apartment price: $[-853243.34]'"
      ]
     },
     "execution_count": 250,
     "metadata": {},
     "output_type": "execute_result"
    }
   ],
   "source": [
    "make_prediction(-34.565, -58.56435, 50, \"Palermo\")"
   ]
  },
  {
   "cell_type": "markdown",
   "id": "44cb2302",
   "metadata": {},
   "source": [
    "* Creatte an interact widget that can predict apartment price changes by adjusting the widget variables"
   ]
  },
  {
   "cell_type": "code",
   "execution_count": 251,
   "id": "9708bcd5",
   "metadata": {},
   "outputs": [
    {
     "data": {
      "application/vnd.jupyter.widget-view+json": {
       "model_id": "8ce9286d7024416db187251da277f7e3",
       "version_major": 2,
       "version_minor": 0
      },
      "text/plain": [
       "interactive(children=(FloatSlider(value=-58.42727415126141, description='lon', max=-58.3602735, min=-58.529034…"
      ]
     },
     "metadata": {},
     "output_type": "display_data"
    }
   ],
   "source": [
    "interact(\n",
    "    make_prediction,\n",
    "    lat=FloatSlider(\n",
    "        min=X_train[\"lat\"].min(),\n",
    "        max=X_train[\"lat\"].max(),\n",
    "        step=0.01,\n",
    "        value=X_train[\"lat\"].mean(),\n",
    "    ),\n",
    "    lon=FloatSlider(\n",
    "        min=X_train[\"lon\"].min(),\n",
    "        max=X_train[\"lon\"].max(),\n",
    "        step=0.01,\n",
    "        value=X_train[\"lon\"].mean(),\n",
    "    ),\n",
    "    surface_covered_in_m2=IntSlider(\n",
    "        min=X_train[\"surface_covered_in_m2\"].min(),\n",
    "        max=X_train[\"surface_covered_in_m2\"].max(),\n",
    "        value=X_train[\"surface_covered_in_m2\"].mean(),\n",
    "    ),\n",
    "    neighborhood=Dropdown(options=sorted(X_train[\"neighborhood\"].unique())),\n",
    ");"
   ]
  },
  {
   "cell_type": "code",
   "execution_count": null,
   "id": "6685fd97",
   "metadata": {},
   "outputs": [],
   "source": []
  }
 ],
 "metadata": {
  "kernelspec": {
   "display_name": "Python 3 (ipykernel)",
   "language": "python",
   "name": "python3"
  },
  "language_info": {
   "codemirror_mode": {
    "name": "ipython",
    "version": 3
   },
   "file_extension": ".py",
   "mimetype": "text/x-python",
   "name": "python",
   "nbconvert_exporter": "python",
   "pygments_lexer": "ipython3",
   "version": "3.9.12"
  }
 },
 "nbformat": 4,
 "nbformat_minor": 5
}
